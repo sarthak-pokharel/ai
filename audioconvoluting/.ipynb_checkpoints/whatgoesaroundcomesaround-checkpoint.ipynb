{
 "cells": [
  {
   "cell_type": "code",
   "execution_count": 2,
   "id": "d905a1eb-f58d-4186-be1e-f87574da1bee",
   "metadata": {},
   "outputs": [],
   "source": [
    "import librosa\n",
    "from scipy.io import wavfile\n",
    "from scipy.signal import resample\n",
    "import scipy\n",
    "import numpy as np\n",
    "import os"
   ]
  },
  {
   "cell_type": "code",
   "execution_count": 3,
   "id": "f5ada709-10d8-4cbb-acc9-cc87fcbaff50",
   "metadata": {},
   "outputs": [],
   "source": [
    "song_src = \"./assets/Careless.mp3\"\n",
    "audio_data, sampling_rate = librosa.load(song_src, sr=None)"
   ]
  },
  {
   "cell_type": "code",
   "execution_count": 4,
   "id": "3938c886-fb7c-4023-aad6-82dfeedf95da",
   "metadata": {},
   "outputs": [],
   "source": [
    "def reverse_audio(audio_data, sampling_rate):\n",
    "    reversed_audio_np = np.flip(audio_data)\n",
    "    wavfile.write(\"output.reversed.mp3\", sampling_rate, reversed_audio_np)\n",
    "reverse_audio(audio_data, sampling_rate)"
   ]
  },
  {
   "cell_type": "code",
   "execution_count": 5,
   "id": "8038c667-6bdf-4d8d-97da-2572df0687b8",
   "metadata": {},
   "outputs": [],
   "source": [
    "def convolve_reset_kernel(audio_data, sampling_rate, kernel):\n",
    "\n",
    "    audio_data = audio_data / np.max(np.abs(audio_data))\n",
    "    \n",
    "    convolved_audio = np.convolve(audio_data, kernel, mode=\"same\")\n",
    "    convolved_audio = np.clip(convolved_audio, -1, 1)\n",
    "    # convolved_audio = (convolved_audio * 100).astype(np.int16)\n",
    "    \n",
    "    compression_r = 4 # No downsampling\n",
    "    downsampled_rate = sampling_rate // compression_r  # Halve the sampling rate\n",
    "    downsampled_audio = scipy.signal.resample_poly(convolved_audio, 1, compression_r)\n",
    "\n",
    "    downsampled_audio = (downsampled_audio * 32767).astype(np.int16)\n",
    "    \n",
    "    # print(audio_data.shape, convolved_audio.shape)\n",
    "    # print(max(convolved_audio), max(convolved_audio))\n",
    "    \n",
    "    wavfile.write(\"output.convolved.mp3\", downsampled_rate, downsampled_audio)\n",
    "\n",
    "\n",
    "kernels = [\n",
    "    [-1,0,1],\n",
    "    [-20,0,20],\n",
    "    [-20, -10,0, 10, 20],\n",
    "    [0,0,5],\n",
    "    [-500,-200, 0,0, 0, 200, 500]\n",
    "]\n",
    "convolve_reset_kernel(audio_data, sampling_rate, kernels[2])"
   ]
  },
  {
   "cell_type": "code",
   "execution_count": 6,
   "id": "784577a6-dce8-44b0-ab3e-7a909a05f522",
   "metadata": {},
   "outputs": [
    {
     "name": "stdout",
     "output_type": "stream",
     "text": [
      "Original sampling rate: 44100, New sampling rate: 4410\n",
      "Maximum value in shifted audio: 32767, Minimum value: -30584\n",
      "Pitch-shifted audio written to 'output.low_pitched.wav'\n",
      "Original sampling rate: 44100, New sampling rate: 220500\n",
      "Maximum value in shifted audio: 32767, Minimum value: -32709\n",
      "Pitch-shifted audio written to 'output.high_pitched.wav'\n"
     ]
    }
   ],
   "source": [
    "def pitch_shift_audio(audio_data, sampling_rate, pitch_shift=1.0):\n",
    "    # Increase or decrease the sampling rate to change the pitch\n",
    "    new_sampling_rate = int(sampling_rate * pitch_shift)\n",
    "    shifted_audio = resample(audio_data, len(audio_data) * new_sampling_rate // sampling_rate)\n",
    "\n",
    "    # Normalize the shifted audio to prevent clipping\n",
    "    shifted_audio /= np.max(np.abs(shifted_audio))\n",
    "\n",
    "    # Convert the shifted audio to the appropriate data type\n",
    "    shifted_audio = (shifted_audio * 32767).astype(np.int16)\n",
    "\n",
    "    print(f\"Original sampling rate: {sampling_rate}, New sampling rate: {new_sampling_rate}\")\n",
    "    print(f\"Maximum value in shifted audio: {np.max(shifted_audio)}, Minimum value: {np.min(shifted_audio)}\")\n",
    "\n",
    "    # Write the shifted audio to a WAV file\n",
    "    output_file = \"output.high_pitched.wav\" if pitch_shift > 1.0 else \"output.low_pitched.wav\"\n",
    "    wavfile.write(output_file, new_sampling_rate, shifted_audio)\n",
    "\n",
    "    print(f\"Pitch-shifted audio written to '{output_file}'\")\n",
    "pitch_shift_audio(audio_data, sampling_rate, 0.1)\n",
    "pitch_shift_audio(audio_data, sampling_rate, 5)"
   ]
  }
 ],
 "metadata": {
  "kernelspec": {
   "display_name": "Python 3 (ipykernel)",
   "language": "python",
   "name": "python3"
  },
  "language_info": {
   "codemirror_mode": {
    "name": "ipython",
    "version": 3
   },
   "file_extension": ".py",
   "mimetype": "text/x-python",
   "name": "python",
   "nbconvert_exporter": "python",
   "pygments_lexer": "ipython3",
   "version": "3.11.7"
  }
 },
 "nbformat": 4,
 "nbformat_minor": 5
}

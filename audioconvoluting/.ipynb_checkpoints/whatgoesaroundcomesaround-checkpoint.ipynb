{
 "cells": [
  {
   "cell_type": "code",
   "execution_count": 17,
   "id": "d905a1eb-f58d-4186-be1e-f87574da1bee",
   "metadata": {},
   "outputs": [],
   "source": [
    "import librosa\n",
    "from scipy.io import wavfile\n",
    "import numpy as np\n",
    "import os"
   ]
  },
  {
   "cell_type": "code",
   "execution_count": 9,
   "id": "f5ada709-10d8-4cbb-acc9-cc87fcbaff50",
   "metadata": {},
   "outputs": [],
   "source": [
    "song_src = \"./assets/Careless.mp3\"\n",
    "audio_data, sampling_rate = librosa.load(song_src, sr=None)"
   ]
  },
  {
   "cell_type": "code",
   "execution_count": 29,
   "id": "3938c886-fb7c-4023-aad6-82dfeedf95da",
   "metadata": {},
   "outputs": [],
   "source": [
    "def reverse_audio(audio_data, sampling_rate):\n",
    "    reversed_audio_np = np.flip(audio_data)\n",
    "    wavfile.write(\"output.reversed.mp3\", sampling_rate, reversed_audio_np)\n",
    "reverse_audio(audio_data, sampling_rate)"
   ]
  },
  {
   "cell_type": "code",
   "execution_count": 47,
   "id": "8038c667-6bdf-4d8d-97da-2572df0687b8",
   "metadata": {},
   "outputs": [
    {
     "name": "stdout",
     "output_type": "stream",
     "text": [
      "(13091328,) (13091328,)\n",
      "32767 32767\n"
     ]
    }
   ],
   "source": [
    "def convolve_reset_kernel(audio_data, sampling_rate, kernel):\n",
    "\n",
    "    audio_data = audio_data / np.max(np.abs(audio_data))\n",
    "    \n",
    "    convolved_audio = np.convolve(audio_data, kernel, mode=\"same\")\n",
    "    convolved_audio = np.clip(convolved_audio, -1, 1)\n",
    "    convolved_audio = (convolved_audio * 32767).astype(np.int16)\n",
    "    \n",
    "    print(audio_data.shape, convolved_audio.shape)\n",
    "    print(max(convolved_audio), max(convolved_audio))\n",
    "    wavfile.write(\"output.convolved.mp3\", sampling_rate, convolved_audio)\n",
    "convolve_reset_kernel(audio_data, sampling_rate, [-500,-200, 0,0, 0, 200, 500])"
   ]
  }
 ],
 "metadata": {
  "kernelspec": {
   "display_name": "Python 3 (ipykernel)",
   "language": "python",
   "name": "python3"
  },
  "language_info": {
   "codemirror_mode": {
    "name": "ipython",
    "version": 3
   },
   "file_extension": ".py",
   "mimetype": "text/x-python",
   "name": "python",
   "nbconvert_exporter": "python",
   "pygments_lexer": "ipython3",
   "version": "3.11.7"
  }
 },
 "nbformat": 4,
 "nbformat_minor": 5
}

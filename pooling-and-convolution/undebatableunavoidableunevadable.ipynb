{
 "cells": [
  {
   "cell_type": "code",
   "execution_count": 65,
   "id": "105f11aa-d6a8-481a-b2cb-e8a90eb8c90f",
   "metadata": {},
   "outputs": [],
   "source": [
    "import numpy as np\n",
    "# np.set_printoptions(precision=3)\n",
    "np.set_printoptions(suppress=True) #dont use scientific notation to print num"
   ]
  },
  {
   "cell_type": "code",
   "execution_count": 66,
   "id": "19551409-e9de-4769-a95a-1a681ceaba38",
   "metadata": {},
   "outputs": [],
   "source": [
    "\n",
    "# THE POOLING FUNCTION\n",
    "def pool2d(matrix, pool_size, fn):\n",
    "    matrix_width, matrix_height = matrix.shape\n",
    "    pool_width, pool_height = pool_size\n",
    "\n",
    "    result_width, result_height = matrix_width//pool_width, matrix_height//pool_height\n",
    "    result = np.zeros((result_width, result_height))\n",
    "    for i in range(result_width):\n",
    "        for j in range(result_height):\n",
    "            result[i,j] = fn(matrix[i*pool_height:(i+1)*pool_height, j*pool_width:(j+1)*pool_width])\n",
    "    return result\n"
   ]
  },
  {
   "cell_type": "code",
   "execution_count": 67,
   "id": "1dec6800-3681-44ed-a0ea-cee528661780",
   "metadata": {},
   "outputs": [
    {
     "name": "stdout",
     "output_type": "stream",
     "text": [
      "initial matrix: \n",
      "[[ 18  83 110 140 149 185]\n",
      " [ 23  18  33 197 153  22]\n",
      " [127 186 193 135  18  52]\n",
      " [130  79 145 164   8  22]\n",
      " [150  62  89 123 140 125]\n",
      " [164  44 104   3 112  87]]\n",
      "max pooled matrix: \n",
      "[[ 83. 197. 185.]\n",
      " [186. 193.  52.]\n",
      " [164. 123. 140.]]\n",
      "avg pooled matrix: \n",
      "[[ 35.5  120.   127.25]\n",
      " [130.5  159.25  25.  ]\n",
      " [105.    79.75 116.  ]]\n"
     ]
    }
   ],
   "source": [
    "rand_matrix = np.random.random((6,6))*200\n",
    "rand_matrix = np.vectorize(int)(rand_matrix)\n",
    "print('initial matrix: ')\n",
    "print(rand_matrix)\n",
    "\n",
    "print('max pooled matrix: ')\n",
    "print(pool2d(rand_matrix, (2,2), np.max))\n",
    "print('avg pooled matrix: ')\n",
    "print(pool2d(rand_matrix, (2,2), np.average))"
   ]
  }
 ],
 "metadata": {
  "kernelspec": {
   "display_name": "Python 3 (ipykernel)",
   "language": "python",
   "name": "python3"
  },
  "language_info": {
   "codemirror_mode": {
    "name": "ipython",
    "version": 3
   },
   "file_extension": ".py",
   "mimetype": "text/x-python",
   "name": "python",
   "nbconvert_exporter": "python",
   "pygments_lexer": "ipython3",
   "version": "3.11.7"
  }
 },
 "nbformat": 4,
 "nbformat_minor": 5
}

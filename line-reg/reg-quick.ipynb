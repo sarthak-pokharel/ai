{
 "cells": [
  {
   "cell_type": "code",
   "execution_count": 7,
   "id": "a297a011-486b-4317-a037-3413f61d3a63",
   "metadata": {},
   "outputs": [],
   "source": [
    "import numpy"
   ]
  },
  {
   "cell_type": "code",
   "execution_count": 6,
   "id": "3beeb776-00d3-4e88-9dc2-85d18abb8ebd",
   "metadata": {},
   "outputs": [
    {
     "ename": "AttributeError",
     "evalue": "module 'scipy.datasets' has no attribute 'make_regression'",
     "output_type": "error",
     "traceback": [
      "\u001b[1;31m---------------------------------------------------------------------------\u001b[0m",
      "\u001b[1;31mAttributeError\u001b[0m                            Traceback (most recent call last)",
      "Cell \u001b[1;32mIn[6], line 1\u001b[0m\n\u001b[1;32m----> 1\u001b[0m X, y \u001b[38;5;241m=\u001b[39m datasets\u001b[38;5;241m.\u001b[39mmake_regression(\n\u001b[0;32m      2\u001b[0m         n_samples\u001b[38;5;241m=\u001b[39m\u001b[38;5;241m500\u001b[39m, n_features\u001b[38;5;241m=\u001b[39m\u001b[38;5;241m1\u001b[39m, noise\u001b[38;5;241m=\u001b[39m\u001b[38;5;241m15\u001b[39m, random_state\u001b[38;5;241m=\u001b[39m\u001b[38;5;241m4\u001b[39m)\n",
      "\u001b[1;31mAttributeError\u001b[0m: module 'scipy.datasets' has no attribute 'make_regression'"
     ]
    }
   ],
   "source": []
  },
  {
   "cell_type": "code",
   "execution_count": null,
   "id": "3711c00c-ef62-45eb-9c5d-1821aa467736",
   "metadata": {},
   "outputs": [],
   "source": []
  }
 ],
 "metadata": {
  "kernelspec": {
   "display_name": "Python 3 (ipykernel)",
   "language": "python",
   "name": "python3"
  },
  "language_info": {
   "codemirror_mode": {
    "name": "ipython",
    "version": 3
   },
   "file_extension": ".py",
   "mimetype": "text/x-python",
   "name": "python",
   "nbconvert_exporter": "python",
   "pygments_lexer": "ipython3",
   "version": "3.11.7"
  }
 },
 "nbformat": 4,
 "nbformat_minor": 5
}
